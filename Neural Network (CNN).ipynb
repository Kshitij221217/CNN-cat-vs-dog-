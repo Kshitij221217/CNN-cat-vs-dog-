{
 "cells": [
  {
   "cell_type": "code",
   "execution_count": 20,
   "id": "a0480e47",
   "metadata": {},
   "outputs": [],
   "source": [
    "import tensorflow \n",
    "from tensorflow import keras\n",
    "from keras.preprocessing.image import img_to_array,array_to_img,ImageDataGenerator,load_img\n"
   ]
  },
  {
   "cell_type": "code",
   "execution_count": 21,
   "id": "548aed04",
   "metadata": {},
   "outputs": [],
   "source": [
    "input=load_img(\"cat.3.jpg\")\n",
    "x=img_to_array(input)\n",
    "x=x.reshape((1,)+x.shape)"
   ]
  },
  {
   "cell_type": "code",
   "execution_count": 22,
   "id": "5568a415",
   "metadata": {},
   "outputs": [],
   "source": [
    "datagen=ImageDataGenerator(rotation_range=0,\n",
    "    width_shift_range=40,\n",
    "    height_shift_range=0.2,\n",
    "    shear_range=0.2,\n",
    "    zoom_range=0.2,\n",
    "    horizontal_flip=True,\n",
    "    vertical_flip=True)"
   ]
  },
  {
   "cell_type": "code",
   "execution_count": 23,
   "id": "aa9e19cd",
   "metadata": {},
   "outputs": [],
   "source": [
    "i=0\n",
    "for batchs in datagen.flow(x,batch_size=32,\n",
    "                              shuffle=True,\n",
    "                              sample_weight=None,\n",
    "                              seed=None,\n",
    "                              save_to_dir=\"preview\",\n",
    "                              save_prefix='cat',\n",
    "                              save_format=\"jpeg\"):\n",
    "    i=i+1\n",
    "    if i>20:\n",
    "        break\n",
    "    "
   ]
  },
  {
   "cell_type": "code",
   "execution_count": 36,
   "id": "1bf6a26d",
   "metadata": {},
   "outputs": [],
   "source": [
    "import tensorflow \n",
    "from tensorflow import keras\n",
    "from keras.layers import Conv2D,Activation,MaxPooling2D,Activation\n",
    "from keras.models import Sequential\n",
    "\n",
    "\n",
    "model=Sequential()\n",
    "\n",
    "#making ann cnn model\n",
    "model.add(Conv2D(32,(3,3),input_shape=(150,150,3)))\n",
    "model.add(Activation(\"relu\"))\n",
    "model.add(MaxPooling2D(pool_size=(2,2)))\n",
    "\n",
    "model.add(Conv2D(32,(3,3)))\n",
    "model.add(Activation(\"relu\"))\n",
    "model.add(MaxPooling2D(pool_size=(2,2)))\n",
    "\n",
    "model.add(Conv2D(64,(3,3)))\n",
    "model.add(Activation(\"relu\"))\n",
    "model.add(MaxPooling2D(pool_size=(2,2)))\n",
    "\n",
    "\n"
   ]
  },
  {
   "cell_type": "code",
   "execution_count": 37,
   "id": "14bab553",
   "metadata": {},
   "outputs": [],
   "source": [
    "from keras.layers import Flatten,Dropout,Dense\n",
    "# the model so far outputs 3D feature maps (height, width, features)\n",
    "model.add(Flatten())\n",
    "model.add(Dense(units=128,activation=\"relu\"))\n",
    "model.add(Dropout(0.5))\n",
    "\n",
    "model.add(Dense(units=1,activation=\"sigmoid\"))\n",
    "model.add(Dropout(0.5))\n",
    "\n",
    "model.compile(  optimizer='adam',\n",
    "    loss=\"binary_crossentropy\",\n",
    "    metrics=[\"accuracy\"],\n",
    "    loss_weights=None,\n",
    "    weighted_metrics=None, \n",
    "    run_eagerly=None)"
   ]
  },
  {
   "cell_type": "code",
   "execution_count": 38,
   "id": "38f4bf47",
   "metadata": {},
   "outputs": [
    {
     "name": "stdout",
     "output_type": "stream",
     "text": [
      "Model: \"sequential_5\"\n",
      "_________________________________________________________________\n",
      "Layer (type)                 Output Shape              Param #   \n",
      "=================================================================\n",
      "conv2d_6 (Conv2D)            (None, 148, 148, 32)      896       \n",
      "_________________________________________________________________\n",
      "activation_4 (Activation)    (None, 148, 148, 32)      0         \n",
      "_________________________________________________________________\n",
      "max_pooling2d_4 (MaxPooling2 (None, 74, 74, 32)        0         \n",
      "_________________________________________________________________\n",
      "conv2d_7 (Conv2D)            (None, 72, 72, 32)        9248      \n",
      "_________________________________________________________________\n",
      "activation_5 (Activation)    (None, 72, 72, 32)        0         \n",
      "_________________________________________________________________\n",
      "max_pooling2d_5 (MaxPooling2 (None, 36, 36, 32)        0         \n",
      "_________________________________________________________________\n",
      "conv2d_8 (Conv2D)            (None, 34, 34, 64)        18496     \n",
      "_________________________________________________________________\n",
      "activation_6 (Activation)    (None, 34, 34, 64)        0         \n",
      "_________________________________________________________________\n",
      "max_pooling2d_6 (MaxPooling2 (None, 17, 17, 64)        0         \n",
      "_________________________________________________________________\n",
      "flatten_4 (Flatten)          (None, 18496)             0         \n",
      "_________________________________________________________________\n",
      "dense_6 (Dense)              (None, 128)               2367616   \n",
      "_________________________________________________________________\n",
      "dropout_6 (Dropout)          (None, 128)               0         \n",
      "_________________________________________________________________\n",
      "dense_7 (Dense)              (None, 1)                 129       \n",
      "_________________________________________________________________\n",
      "dropout_7 (Dropout)          (None, 1)                 0         \n",
      "=================================================================\n",
      "Total params: 2,396,385\n",
      "Trainable params: 2,396,385\n",
      "Non-trainable params: 0\n",
      "_________________________________________________________________\n"
     ]
    }
   ],
   "source": [
    "model.summary()"
   ]
  },
  {
   "cell_type": "markdown",
   "id": "ec375e47",
   "metadata": {},
   "source": [
    "# preparing the data"
   ]
  },
  {
   "cell_type": "code",
   "execution_count": 39,
   "id": "b48767f4",
   "metadata": {},
   "outputs": [],
   "source": [
    "batch_size=16\n",
    "train_datagen=ImageDataGenerator(featurewise_center=False,\n",
    "    samplewise_center=False,\n",
    "    featurewise_std_normalization=False,\n",
    "    samplewise_std_normalization=False,\n",
    "    zca_whitening=False,\n",
    "    zca_epsilon=1e-06,\n",
    "    rotation_range=0.0,\n",
    "    width_shift_range=0.0,\n",
    "    height_shift_range=0.0,\n",
    "    brightness_range=None,\n",
    "    shear_range=0.2,\n",
    "    zoom_range=0.2,\n",
    "    channel_shift_range=0.0,\n",
    "    fill_mode='nearest',\n",
    "    cval=0.0,\n",
    "    horizontal_flip=True,\n",
    "    vertical_flip=True,\n",
    "    rescale=1./255,\n",
    "    preprocessing_function=None,\n",
    "    data_format=None,\n",
    "    validation_split=0.0,\n",
    "    dtype=None)\n",
    "\n",
    "test_datagen=ImageDataGenerator(featurewise_center=False,\n",
    "    samplewise_center=False,\n",
    "    featurewise_std_normalization=False,\n",
    "    samplewise_std_normalization=False,\n",
    "    zca_whitening=False,\n",
    "    zca_epsilon=1e-06,\n",
    "    rotation_range=0,\n",
    "    width_shift_range=0.0,\n",
    "    height_shift_range=0.0,\n",
    "    brightness_range=None,\n",
    "    shear_range=0.0,\n",
    "    zoom_range=0.0,\n",
    "    channel_shift_range=0.0,\n",
    "    fill_mode='nearest',\n",
    "    cval=0.0,\n",
    "    horizontal_flip=False,\n",
    "    vertical_flip=False,\n",
    "    rescale=1./255,\n",
    "    preprocessing_function=None,\n",
    "    data_format=None,\n",
    "    validation_split=0.0,\n",
    "    dtype=None)"
   ]
  },
  {
   "cell_type": "markdown",
   "id": "480ac391",
   "metadata": {},
   "source": [
    "# Generator to read the picture"
   ]
  },
  {
   "cell_type": "code",
   "execution_count": 46,
   "id": "77dace57",
   "metadata": {},
   "outputs": [
    {
     "name": "stdout",
     "output_type": "stream",
     "text": [
      "Found 8005 images belonging to 2 classes.\n",
      "Found 2023 images belonging to 2 classes.\n"
     ]
    }
   ],
   "source": [
    "train_generator=train_datagen.flow_from_directory(\"dog vs cat/training_set/training_set\",\n",
    "                                                  target_size=(150,150),\n",
    "                                                  batch_size=batch_size,class_mode='binary')\n",
    "validation_generator=train_datagen.flow_from_directory(\"dog vs cat/test_set/test_set\",\n",
    "                                                  target_size=(150,150),\n",
    "                                                  batch_size=batch_size,class_mode='binary')\n",
    "   "
   ]
  },
  {
   "cell_type": "code",
   "execution_count": 50,
   "id": "b7d146c2",
   "metadata": {},
   "outputs": [
    {
     "name": "stdout",
     "output_type": "stream",
     "text": [
      "Epoch 1/50\n",
      "125/125 [==============================] - 108s 863ms/step - loss: 7.7410 - accuracy: 0.4900 - val_loss: 3.0540 - val_accuracy: 0.5100\n",
      "Epoch 2/50\n",
      "125/125 [==============================] - 102s 818ms/step - loss: 7.3778 - accuracy: 0.5190 - val_loss: 3.0910 - val_accuracy: 0.5013\n",
      "Epoch 3/50\n",
      "125/125 [==============================] - 91s 728ms/step - loss: 7.5679 - accuracy: 0.5065 - val_loss: 3.2043 - val_accuracy: 0.4850\n",
      "Epoch 4/50\n",
      "125/125 [==============================] - 83s 662ms/step - loss: 7.7912 - accuracy: 0.4920 - val_loss: 3.1405 - val_accuracy: 0.4963\n",
      "Epoch 5/50\n",
      "125/125 [==============================] - 101s 807ms/step - loss: 7.6090 - accuracy: 0.5038 - val_loss: 3.0717 - val_accuracy: 0.5050\n",
      "Epoch 6/50\n",
      "125/125 [==============================] - 87s 700ms/step - loss: 7.5386 - accuracy: 0.5085 - val_loss: 3.2418 - val_accuracy: 0.4825\n",
      "Epoch 7/50\n",
      "125/125 [==============================] - 110s 880ms/step - loss: 7.4263 - accuracy: 0.5160 - val_loss: 3.1897 - val_accuracy: 0.4925\n",
      "Epoch 8/50\n",
      "125/125 [==============================] - 76s 608ms/step - loss: 7.3942 - accuracy: 0.5180 - val_loss: 3.0867 - val_accuracy: 0.5000\n",
      "Epoch 9/50\n",
      "125/125 [==============================] - 70s 563ms/step - loss: 7.7306 - accuracy: 0.4960 - val_loss: 3.0635 - val_accuracy: 0.5063\n",
      "Epoch 10/50\n",
      "125/125 [==============================] - 73s 582ms/step - loss: 7.8897 - accuracy: 0.4855 - val_loss: 3.1216 - val_accuracy: 0.5013\n",
      "Epoch 11/50\n",
      "125/125 [==============================] - 72s 575ms/step - loss: 7.8656 - accuracy: 0.4870 - val_loss: 3.1359 - val_accuracy: 0.4950\n",
      "Epoch 12/50\n",
      "125/125 [==============================] - 85s 677ms/step - loss: 7.6225 - accuracy: 0.5030 - val_loss: 3.0814 - val_accuracy: 0.5063\n",
      "Epoch 13/50\n",
      "125/125 [==============================] - 83s 664ms/step - loss: 7.6141 - accuracy: 0.5035 - val_loss: 3.1269 - val_accuracy: 0.5050\n",
      "Epoch 14/50\n",
      "125/125 [==============================] - 78s 627ms/step - loss: 7.5105 - accuracy: 0.5103 - val_loss: 3.1838 - val_accuracy: 0.4875\n",
      "Epoch 15/50\n",
      "125/125 [==============================] - 70s 559ms/step - loss: 7.5620 - accuracy: 0.5070 - val_loss: 2.9843 - val_accuracy: 0.5200\n",
      "Epoch 16/50\n",
      "125/125 [==============================] - 63s 507ms/step - loss: 7.5536 - accuracy: 0.5075 - val_loss: 3.2584 - val_accuracy: 0.4825\n",
      "Epoch 17/50\n",
      "125/125 [==============================] - 66s 530ms/step - loss: 7.5685 - accuracy: 0.5065 - val_loss: 3.1385 - val_accuracy: 0.4975\n",
      "Epoch 18/50\n",
      "125/125 [==============================] - 66s 525ms/step - loss: 7.7644 - accuracy: 0.4937 - val_loss: 3.0765 - val_accuracy: 0.5025\n",
      "Epoch 19/50\n",
      "125/125 [==============================] - 60s 476ms/step - loss: 7.9222 - accuracy: 0.4837 - val_loss: 3.0158 - val_accuracy: 0.5163\n",
      "Epoch 20/50\n",
      "125/125 [==============================] - 63s 506ms/step - loss: 7.7145 - accuracy: 0.4970 - val_loss: 3.1425 - val_accuracy: 0.4925\n",
      "Epoch 21/50\n",
      "125/125 [==============================] - 58s 466ms/step - loss: 7.7546 - accuracy: 0.4945 - val_loss: 3.0042 - val_accuracy: 0.5150\n",
      "Epoch 22/50\n",
      "125/125 [==============================] - 53s 425ms/step - loss: 7.8989 - accuracy: 0.4850 - val_loss: 3.0132 - val_accuracy: 0.5163\n",
      "Epoch 23/50\n",
      "125/125 [==============================] - 52s 414ms/step - loss: 7.7961 - accuracy: 0.4915 - val_loss: 3.0783 - val_accuracy: 0.4975\n",
      "Epoch 24/50\n",
      "125/125 [==============================] - 51s 411ms/step - loss: 7.6108 - accuracy: 0.5038 - val_loss: 3.0912 - val_accuracy: 0.5025\n",
      "Epoch 25/50\n",
      "125/125 [==============================] - 51s 408ms/step - loss: 7.5171 - accuracy: 0.5098 - val_loss: 3.1994 - val_accuracy: 0.4888\n",
      "Epoch 26/50\n",
      "125/125 [==============================] - 52s 417ms/step - loss: 7.4390 - accuracy: 0.5150 - val_loss: 3.1290 - val_accuracy: 0.4938\n",
      "Epoch 27/50\n",
      "125/125 [==============================] - 51s 411ms/step - loss: 7.6056 - accuracy: 0.5043 - val_loss: 3.0535 - val_accuracy: 0.5138\n",
      "Epoch 28/50\n",
      "125/125 [==============================] - 50s 403ms/step - loss: 7.7157 - accuracy: 0.4970 - val_loss: 3.1410 - val_accuracy: 0.4975\n",
      "Epoch 29/50\n",
      "125/125 [==============================] - 50s 403ms/step - loss: 7.8529 - accuracy: 0.4880 - val_loss: 2.9976 - val_accuracy: 0.5200\n",
      "Epoch 30/50\n",
      "125/125 [==============================] - 51s 405ms/step - loss: 7.6845 - accuracy: 0.4990 - val_loss: 3.1237 - val_accuracy: 0.4950\n",
      "Epoch 31/50\n",
      "125/125 [==============================] - 50s 400ms/step - loss: 7.8049 - accuracy: 0.4912 - val_loss: 3.0398 - val_accuracy: 0.5150\n",
      "Epoch 32/50\n",
      "125/125 [==============================] - 51s 405ms/step - loss: 7.4248 - accuracy: 0.5160 - val_loss: 3.2264 - val_accuracy: 0.4800\n",
      "Epoch 33/50\n",
      "125/125 [==============================] - 50s 399ms/step - loss: 7.4415 - accuracy: 0.5148 - val_loss: 3.0630 - val_accuracy: 0.5100\n",
      "Epoch 34/50\n",
      "125/125 [==============================] - 50s 399ms/step - loss: 7.8273 - accuracy: 0.4897 - val_loss: 3.1470 - val_accuracy: 0.4913\n",
      "Epoch 35/50\n",
      "125/125 [==============================] - 51s 405ms/step - loss: 7.7695 - accuracy: 0.4935 - val_loss: 3.0574 - val_accuracy: 0.5075\n",
      "Epoch 36/50\n",
      "125/125 [==============================] - 50s 402ms/step - loss: 7.8160 - accuracy: 0.4905 - val_loss: 3.0916 - val_accuracy: 0.5025\n",
      "Epoch 37/50\n",
      "125/125 [==============================] - 50s 399ms/step - loss: 7.6162 - accuracy: 0.5035 - val_loss: 3.0591 - val_accuracy: 0.5063\n",
      "Epoch 38/50\n",
      "125/125 [==============================] - 50s 401ms/step - loss: 7.7595 - accuracy: 0.4940 - val_loss: 3.0966 - val_accuracy: 0.5075\n",
      "Epoch 39/50\n",
      "125/125 [==============================] - 50s 401ms/step - loss: 7.4375 - accuracy: 0.5150 - val_loss: 3.0144 - val_accuracy: 0.5113\n",
      "Epoch 40/50\n",
      "125/125 [==============================] - 50s 403ms/step - loss: 7.6813 - accuracy: 0.4992 - val_loss: 3.0605 - val_accuracy: 0.5100\n",
      "Epoch 41/50\n",
      "125/125 [==============================] - 50s 402ms/step - loss: 7.5214 - accuracy: 0.5095 - val_loss: 3.0702 - val_accuracy: 0.5088\n",
      "Epoch 42/50\n",
      "125/125 [==============================] - 52s 413ms/step - loss: 7.9159 - accuracy: 0.4840 - val_loss: 3.1924 - val_accuracy: 0.4875\n",
      "Epoch 43/50\n",
      "125/125 [==============================] - 51s 405ms/step - loss: 7.7756 - accuracy: 0.4930 - val_loss: 3.0393 - val_accuracy: 0.5138\n",
      "Epoch 44/50\n",
      "125/125 [==============================] - 51s 408ms/step - loss: 7.5841 - accuracy: 0.5055 - val_loss: 2.9278 - val_accuracy: 0.5238\n",
      "Epoch 45/50\n",
      "125/125 [==============================] - 51s 405ms/step - loss: 7.6377 - accuracy: 0.5020 - val_loss: 3.0280 - val_accuracy: 0.5088\n",
      "Epoch 46/50\n",
      "125/125 [==============================] - 51s 409ms/step - loss: 7.4122 - accuracy: 0.5168 - val_loss: 3.0365 - val_accuracy: 0.5113\n",
      "Epoch 47/50\n",
      "125/125 [==============================] - 51s 406ms/step - loss: 7.6335 - accuracy: 0.5023 - val_loss: 3.1475 - val_accuracy: 0.4925\n",
      "Epoch 48/50\n",
      "125/125 [==============================] - 50s 404ms/step - loss: 7.4687 - accuracy: 0.5130 - val_loss: 3.1138 - val_accuracy: 0.4950\n",
      "Epoch 49/50\n",
      "125/125 [==============================] - 52s 414ms/step - loss: 7.7215 - accuracy: 0.4965 - val_loss: 3.0147 - val_accuracy: 0.5050\n",
      "Epoch 50/50\n",
      "125/125 [==============================] - 51s 406ms/step - loss: 7.8819 - accuracy: 0.4860 - val_loss: 3.0627 - val_accuracy: 0.5013\n"
     ]
    },
    {
     "data": {
      "text/plain": [
       "<tensorflow.python.keras.callbacks.History at 0x1c1bfd66bc8>"
      ]
     },
     "execution_count": 50,
     "metadata": {},
     "output_type": "execute_result"
    }
   ],
   "source": [
    "model.fit(train_generator,validation_data=validation_generator,epochs=50,\n",
    "          steps_per_epoch=2000//batch_size,\n",
    "          batch_size=batch_size,validation_steps=800//batch_size)"
   ]
  },
  {
   "cell_type": "code",
   "execution_count": null,
   "id": "bf1df61f",
   "metadata": {},
   "outputs": [],
   "source": []
  }
 ],
 "metadata": {
  "kernelspec": {
   "display_name": "Python 3",
   "language": "python",
   "name": "python3"
  },
  "language_info": {
   "codemirror_mode": {
    "name": "ipython",
    "version": 3
   },
   "file_extension": ".py",
   "mimetype": "text/x-python",
   "name": "python",
   "nbconvert_exporter": "python",
   "pygments_lexer": "ipython3",
   "version": "3.7.10"
  }
 },
 "nbformat": 4,
 "nbformat_minor": 5
}
